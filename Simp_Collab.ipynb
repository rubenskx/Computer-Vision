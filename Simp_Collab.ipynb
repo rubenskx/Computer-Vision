{
  "nbformat": 4,
  "nbformat_minor": 0,
  "metadata": {
    "colab": {
      "name": "Simp_Collab.ipynb",
      "provenance": [],
      "collapsed_sections": []
    },
    "kernelspec": {
      "name": "python3",
      "display_name": "Python 3"
    },
    "language_info": {
      "name": "python"
    },
    "accelerator": "GPU"
  },
  "cells": [
    {
      "cell_type": "code",
      "execution_count": null,
      "metadata": {
        "colab": {
          "base_uri": "https://localhost:8080/"
        },
        "id": "2SaR7l6UxRyl",
        "outputId": "991de186-26fc-4dc5-f2b0-67a1721d313f"
      },
      "outputs": [
        {
          "output_type": "stream",
          "name": "stdout",
          "text": [
            "Drive already mounted at /content/drive; to attempt to forcibly remount, call drive.mount(\"/content/drive\", force_remount=True).\n"
          ]
        }
      ],
      "source": [
        "from google.colab import drive\n",
        "drive.mount('/content/drive')"
      ]
    },
    {
      "cell_type": "code",
      "source": [
        "!pip install --upgrade caer canaro"
      ],
      "metadata": {
        "colab": {
          "base_uri": "https://localhost:8080/"
        },
        "id": "v8to05TQza_D",
        "outputId": "b90e5505-633c-4b05-a05d-65ca2221101b"
      },
      "execution_count": null,
      "outputs": [
        {
          "output_type": "stream",
          "name": "stdout",
          "text": [
            "Collecting caer\n",
            "  Downloading caer-2.0.8-py3-none-any.whl (809 kB)\n",
            "\u001b[?25l\r\u001b[K     |▍                               | 10 kB 17.6 MB/s eta 0:00:01\r\u001b[K     |▉                               | 20 kB 10.2 MB/s eta 0:00:01\r\u001b[K     |█▏                              | 30 kB 8.6 MB/s eta 0:00:01\r\u001b[K     |█▋                              | 40 kB 8.1 MB/s eta 0:00:01\r\u001b[K     |██                              | 51 kB 5.1 MB/s eta 0:00:01\r\u001b[K     |██▍                             | 61 kB 5.6 MB/s eta 0:00:01\r\u001b[K     |██▉                             | 71 kB 5.5 MB/s eta 0:00:01\r\u001b[K     |███▎                            | 81 kB 6.2 MB/s eta 0:00:01\r\u001b[K     |███▋                            | 92 kB 4.8 MB/s eta 0:00:01\r\u001b[K     |████                            | 102 kB 5.3 MB/s eta 0:00:01\r\u001b[K     |████▌                           | 112 kB 5.3 MB/s eta 0:00:01\r\u001b[K     |████▉                           | 122 kB 5.3 MB/s eta 0:00:01\r\u001b[K     |█████▎                          | 133 kB 5.3 MB/s eta 0:00:01\r\u001b[K     |█████▊                          | 143 kB 5.3 MB/s eta 0:00:01\r\u001b[K     |██████                          | 153 kB 5.3 MB/s eta 0:00:01\r\u001b[K     |██████▌                         | 163 kB 5.3 MB/s eta 0:00:01\r\u001b[K     |██████▉                         | 174 kB 5.3 MB/s eta 0:00:01\r\u001b[K     |███████▎                        | 184 kB 5.3 MB/s eta 0:00:01\r\u001b[K     |███████▊                        | 194 kB 5.3 MB/s eta 0:00:01\r\u001b[K     |████████                        | 204 kB 5.3 MB/s eta 0:00:01\r\u001b[K     |████████▌                       | 215 kB 5.3 MB/s eta 0:00:01\r\u001b[K     |█████████                       | 225 kB 5.3 MB/s eta 0:00:01\r\u001b[K     |█████████▎                      | 235 kB 5.3 MB/s eta 0:00:01\r\u001b[K     |█████████▊                      | 245 kB 5.3 MB/s eta 0:00:01\r\u001b[K     |██████████▏                     | 256 kB 5.3 MB/s eta 0:00:01\r\u001b[K     |██████████▌                     | 266 kB 5.3 MB/s eta 0:00:01\r\u001b[K     |███████████                     | 276 kB 5.3 MB/s eta 0:00:01\r\u001b[K     |███████████▍                    | 286 kB 5.3 MB/s eta 0:00:01\r\u001b[K     |███████████▊                    | 296 kB 5.3 MB/s eta 0:00:01\r\u001b[K     |████████████▏                   | 307 kB 5.3 MB/s eta 0:00:01\r\u001b[K     |████████████▌                   | 317 kB 5.3 MB/s eta 0:00:01\r\u001b[K     |█████████████                   | 327 kB 5.3 MB/s eta 0:00:01\r\u001b[K     |█████████████▍                  | 337 kB 5.3 MB/s eta 0:00:01\r\u001b[K     |█████████████▊                  | 348 kB 5.3 MB/s eta 0:00:01\r\u001b[K     |██████████████▏                 | 358 kB 5.3 MB/s eta 0:00:01\r\u001b[K     |██████████████▋                 | 368 kB 5.3 MB/s eta 0:00:01\r\u001b[K     |███████████████                 | 378 kB 5.3 MB/s eta 0:00:01\r\u001b[K     |███████████████▍                | 389 kB 5.3 MB/s eta 0:00:01\r\u001b[K     |███████████████▉                | 399 kB 5.3 MB/s eta 0:00:01\r\u001b[K     |████████████████▏               | 409 kB 5.3 MB/s eta 0:00:01\r\u001b[K     |████████████████▋               | 419 kB 5.3 MB/s eta 0:00:01\r\u001b[K     |█████████████████               | 430 kB 5.3 MB/s eta 0:00:01\r\u001b[K     |█████████████████▍              | 440 kB 5.3 MB/s eta 0:00:01\r\u001b[K     |█████████████████▉              | 450 kB 5.3 MB/s eta 0:00:01\r\u001b[K     |██████████████████▏             | 460 kB 5.3 MB/s eta 0:00:01\r\u001b[K     |██████████████████▋             | 471 kB 5.3 MB/s eta 0:00:01\r\u001b[K     |███████████████████             | 481 kB 5.3 MB/s eta 0:00:01\r\u001b[K     |███████████████████▍            | 491 kB 5.3 MB/s eta 0:00:01\r\u001b[K     |███████████████████▉            | 501 kB 5.3 MB/s eta 0:00:01\r\u001b[K     |████████████████████▎           | 512 kB 5.3 MB/s eta 0:00:01\r\u001b[K     |████████████████████▋           | 522 kB 5.3 MB/s eta 0:00:01\r\u001b[K     |█████████████████████           | 532 kB 5.3 MB/s eta 0:00:01\r\u001b[K     |█████████████████████▌          | 542 kB 5.3 MB/s eta 0:00:01\r\u001b[K     |█████████████████████▉          | 552 kB 5.3 MB/s eta 0:00:01\r\u001b[K     |██████████████████████▎         | 563 kB 5.3 MB/s eta 0:00:01\r\u001b[K     |██████████████████████▊         | 573 kB 5.3 MB/s eta 0:00:01\r\u001b[K     |███████████████████████         | 583 kB 5.3 MB/s eta 0:00:01\r\u001b[K     |███████████████████████▌        | 593 kB 5.3 MB/s eta 0:00:01\r\u001b[K     |███████████████████████▉        | 604 kB 5.3 MB/s eta 0:00:01\r\u001b[K     |████████████████████████▎       | 614 kB 5.3 MB/s eta 0:00:01\r\u001b[K     |████████████████████████▊       | 624 kB 5.3 MB/s eta 0:00:01\r\u001b[K     |█████████████████████████       | 634 kB 5.3 MB/s eta 0:00:01\r\u001b[K     |█████████████████████████▌      | 645 kB 5.3 MB/s eta 0:00:01\r\u001b[K     |██████████████████████████      | 655 kB 5.3 MB/s eta 0:00:01\r\u001b[K     |██████████████████████████▎     | 665 kB 5.3 MB/s eta 0:00:01\r\u001b[K     |██████████████████████████▊     | 675 kB 5.3 MB/s eta 0:00:01\r\u001b[K     |███████████████████████████▏    | 686 kB 5.3 MB/s eta 0:00:01\r\u001b[K     |███████████████████████████▌    | 696 kB 5.3 MB/s eta 0:00:01\r\u001b[K     |████████████████████████████    | 706 kB 5.3 MB/s eta 0:00:01\r\u001b[K     |████████████████████████████▍   | 716 kB 5.3 MB/s eta 0:00:01\r\u001b[K     |████████████████████████████▊   | 727 kB 5.3 MB/s eta 0:00:01\r\u001b[K     |█████████████████████████████▏  | 737 kB 5.3 MB/s eta 0:00:01\r\u001b[K     |█████████████████████████████▌  | 747 kB 5.3 MB/s eta 0:00:01\r\u001b[K     |██████████████████████████████  | 757 kB 5.3 MB/s eta 0:00:01\r\u001b[K     |██████████████████████████████▍ | 768 kB 5.3 MB/s eta 0:00:01\r\u001b[K     |██████████████████████████████▊ | 778 kB 5.3 MB/s eta 0:00:01\r\u001b[K     |███████████████████████████████▏| 788 kB 5.3 MB/s eta 0:00:01\r\u001b[K     |███████████████████████████████▋| 798 kB 5.3 MB/s eta 0:00:01\r\u001b[K     |████████████████████████████████| 808 kB 5.3 MB/s eta 0:00:01\r\u001b[K     |████████████████████████████████| 809 kB 5.3 MB/s \n",
            "\u001b[?25hCollecting canaro\n",
            "  Downloading canaro-1.1.0-py3-none-any.whl (19 kB)\n",
            "Requirement already satisfied: opencv-contrib-python in /usr/local/lib/python3.7/dist-packages (from caer) (4.1.2.30)\n",
            "Requirement already satisfied: numpy in /usr/local/lib/python3.7/dist-packages (from caer) (1.19.5)\n",
            "Collecting mypy\n",
            "  Downloading mypy-0.930-cp37-cp37m-manylinux_2_5_x86_64.manylinux1_x86_64.manylinux_2_12_x86_64.manylinux2010_x86_64.whl (14.0 MB)\n",
            "\u001b[K     |████████████████████████████████| 14.0 MB 40.4 MB/s \n",
            "\u001b[?25hRequirement already satisfied: typing-extensions in /usr/local/lib/python3.7/dist-packages (from caer) (3.10.0.2)\n",
            "Requirement already satisfied: tensorflow in /usr/local/lib/python3.7/dist-packages (from canaro) (2.7.0)\n",
            "Collecting typed-ast<2,>=1.4.0\n",
            "  Downloading typed_ast-1.5.1-cp37-cp37m-manylinux_2_5_x86_64.manylinux1_x86_64.manylinux_2_12_x86_64.manylinux2010_x86_64.whl (843 kB)\n",
            "\u001b[K     |████████████████████████████████| 843 kB 39.9 MB/s \n",
            "\u001b[?25hRequirement already satisfied: tomli>=1.1.0 in /usr/local/lib/python3.7/dist-packages (from mypy->caer) (1.2.2)\n",
            "Collecting mypy-extensions>=0.4.3\n",
            "  Downloading mypy_extensions-0.4.3-py2.py3-none-any.whl (4.5 kB)\n",
            "Requirement already satisfied: astunparse>=1.6.0 in /usr/local/lib/python3.7/dist-packages (from tensorflow->canaro) (1.6.3)\n",
            "Requirement already satisfied: tensorflow-estimator<2.8,~=2.7.0rc0 in /usr/local/lib/python3.7/dist-packages (from tensorflow->canaro) (2.7.0)\n",
            "Requirement already satisfied: libclang>=9.0.1 in /usr/local/lib/python3.7/dist-packages (from tensorflow->canaro) (12.0.0)\n",
            "Requirement already satisfied: wrapt>=1.11.0 in /usr/local/lib/python3.7/dist-packages (from tensorflow->canaro) (1.13.3)\n",
            "Requirement already satisfied: tensorboard~=2.6 in /usr/local/lib/python3.7/dist-packages (from tensorflow->canaro) (2.7.0)\n",
            "Requirement already satisfied: gast<0.5.0,>=0.2.1 in /usr/local/lib/python3.7/dist-packages (from tensorflow->canaro) (0.4.0)\n",
            "Requirement already satisfied: wheel<1.0,>=0.32.0 in /usr/local/lib/python3.7/dist-packages (from tensorflow->canaro) (0.37.0)\n",
            "Requirement already satisfied: grpcio<2.0,>=1.24.3 in /usr/local/lib/python3.7/dist-packages (from tensorflow->canaro) (1.42.0)\n",
            "Requirement already satisfied: google-pasta>=0.1.1 in /usr/local/lib/python3.7/dist-packages (from tensorflow->canaro) (0.2.0)\n",
            "Requirement already satisfied: tensorflow-io-gcs-filesystem>=0.21.0 in /usr/local/lib/python3.7/dist-packages (from tensorflow->canaro) (0.22.0)\n",
            "Requirement already satisfied: protobuf>=3.9.2 in /usr/local/lib/python3.7/dist-packages (from tensorflow->canaro) (3.17.3)\n",
            "Requirement already satisfied: flatbuffers<3.0,>=1.12 in /usr/local/lib/python3.7/dist-packages (from tensorflow->canaro) (2.0)\n",
            "Requirement already satisfied: absl-py>=0.4.0 in /usr/local/lib/python3.7/dist-packages (from tensorflow->canaro) (0.12.0)\n",
            "Requirement already satisfied: opt-einsum>=2.3.2 in /usr/local/lib/python3.7/dist-packages (from tensorflow->canaro) (3.3.0)\n",
            "Requirement already satisfied: termcolor>=1.1.0 in /usr/local/lib/python3.7/dist-packages (from tensorflow->canaro) (1.1.0)\n",
            "Requirement already satisfied: h5py>=2.9.0 in /usr/local/lib/python3.7/dist-packages (from tensorflow->canaro) (3.1.0)\n",
            "Requirement already satisfied: six>=1.12.0 in /usr/local/lib/python3.7/dist-packages (from tensorflow->canaro) (1.15.0)\n",
            "Requirement already satisfied: keras<2.8,>=2.7.0rc0 in /usr/local/lib/python3.7/dist-packages (from tensorflow->canaro) (2.7.0)\n",
            "Requirement already satisfied: keras-preprocessing>=1.1.1 in /usr/local/lib/python3.7/dist-packages (from tensorflow->canaro) (1.1.2)\n",
            "Requirement already satisfied: cached-property in /usr/local/lib/python3.7/dist-packages (from h5py>=2.9.0->tensorflow->canaro) (1.5.2)\n",
            "Requirement already satisfied: google-auth<3,>=1.6.3 in /usr/local/lib/python3.7/dist-packages (from tensorboard~=2.6->tensorflow->canaro) (1.35.0)\n",
            "Requirement already satisfied: tensorboard-data-server<0.7.0,>=0.6.0 in /usr/local/lib/python3.7/dist-packages (from tensorboard~=2.6->tensorflow->canaro) (0.6.1)\n",
            "Requirement already satisfied: werkzeug>=0.11.15 in /usr/local/lib/python3.7/dist-packages (from tensorboard~=2.6->tensorflow->canaro) (1.0.1)\n",
            "Requirement already satisfied: setuptools>=41.0.0 in /usr/local/lib/python3.7/dist-packages (from tensorboard~=2.6->tensorflow->canaro) (57.4.0)\n",
            "Requirement already satisfied: tensorboard-plugin-wit>=1.6.0 in /usr/local/lib/python3.7/dist-packages (from tensorboard~=2.6->tensorflow->canaro) (1.8.0)\n",
            "Requirement already satisfied: google-auth-oauthlib<0.5,>=0.4.1 in /usr/local/lib/python3.7/dist-packages (from tensorboard~=2.6->tensorflow->canaro) (0.4.6)\n",
            "Requirement already satisfied: requests<3,>=2.21.0 in /usr/local/lib/python3.7/dist-packages (from tensorboard~=2.6->tensorflow->canaro) (2.23.0)\n",
            "Requirement already satisfied: markdown>=2.6.8 in /usr/local/lib/python3.7/dist-packages (from tensorboard~=2.6->tensorflow->canaro) (3.3.6)\n",
            "Requirement already satisfied: rsa<5,>=3.1.4 in /usr/local/lib/python3.7/dist-packages (from google-auth<3,>=1.6.3->tensorboard~=2.6->tensorflow->canaro) (4.8)\n",
            "Requirement already satisfied: cachetools<5.0,>=2.0.0 in /usr/local/lib/python3.7/dist-packages (from google-auth<3,>=1.6.3->tensorboard~=2.6->tensorflow->canaro) (4.2.4)\n",
            "Requirement already satisfied: pyasn1-modules>=0.2.1 in /usr/local/lib/python3.7/dist-packages (from google-auth<3,>=1.6.3->tensorboard~=2.6->tensorflow->canaro) (0.2.8)\n",
            "Requirement already satisfied: requests-oauthlib>=0.7.0 in /usr/local/lib/python3.7/dist-packages (from google-auth-oauthlib<0.5,>=0.4.1->tensorboard~=2.6->tensorflow->canaro) (1.3.0)\n",
            "Requirement already satisfied: importlib-metadata>=4.4 in /usr/local/lib/python3.7/dist-packages (from markdown>=2.6.8->tensorboard~=2.6->tensorflow->canaro) (4.8.2)\n",
            "Requirement already satisfied: zipp>=0.5 in /usr/local/lib/python3.7/dist-packages (from importlib-metadata>=4.4->markdown>=2.6.8->tensorboard~=2.6->tensorflow->canaro) (3.6.0)\n",
            "Requirement already satisfied: pyasn1<0.5.0,>=0.4.6 in /usr/local/lib/python3.7/dist-packages (from pyasn1-modules>=0.2.1->google-auth<3,>=1.6.3->tensorboard~=2.6->tensorflow->canaro) (0.4.8)\n",
            "Requirement already satisfied: idna<3,>=2.5 in /usr/local/lib/python3.7/dist-packages (from requests<3,>=2.21.0->tensorboard~=2.6->tensorflow->canaro) (2.10)\n",
            "Requirement already satisfied: chardet<4,>=3.0.2 in /usr/local/lib/python3.7/dist-packages (from requests<3,>=2.21.0->tensorboard~=2.6->tensorflow->canaro) (3.0.4)\n",
            "Requirement already satisfied: urllib3!=1.25.0,!=1.25.1,<1.26,>=1.21.1 in /usr/local/lib/python3.7/dist-packages (from requests<3,>=2.21.0->tensorboard~=2.6->tensorflow->canaro) (1.24.3)\n",
            "Requirement already satisfied: certifi>=2017.4.17 in /usr/local/lib/python3.7/dist-packages (from requests<3,>=2.21.0->tensorboard~=2.6->tensorflow->canaro) (2021.10.8)\n",
            "Requirement already satisfied: oauthlib>=3.0.0 in /usr/local/lib/python3.7/dist-packages (from requests-oauthlib>=0.7.0->google-auth-oauthlib<0.5,>=0.4.1->tensorboard~=2.6->tensorflow->canaro) (3.1.1)\n",
            "Installing collected packages: typed-ast, mypy-extensions, mypy, caer, canaro\n",
            "Successfully installed caer-2.0.8 canaro-1.1.0 mypy-0.930 mypy-extensions-0.4.3 typed-ast-1.5.1\n"
          ]
        }
      ]
    },
    {
      "cell_type": "code",
      "source": [
        "import caer\n",
        "import canaro\n",
        "import numpy as np\n",
        "import cv2 as cv\n",
        "import gc"
      ],
      "metadata": {
        "id": "afCH21F8ztAj"
      },
      "execution_count": null,
      "outputs": []
    },
    {
      "cell_type": "code",
      "source": [
        "IMG_SIZE= (80,80)\n",
        "channels = 1\n",
        "char_path ='/content/drive/MyDrive/simpsons_dataset'"
      ],
      "metadata": {
        "id": "x1sHBQD-z45r"
      },
      "execution_count": null,
      "outputs": []
    },
    {
      "cell_type": "code",
      "source": [
        "import os\n",
        "char_dict = {}\n",
        "for char in os.listdir(char_path):\n",
        "    char_dict[char] = len(os.listdir(os.path.join(char_path,char)))\n",
        "    \n",
        "char_dict   = caer.sort_dict(char_dict, descending = True)\n",
        "char_dict"
      ],
      "metadata": {
        "colab": {
          "base_uri": "https://localhost:8080/"
        },
        "id": "430N3aHAz_EO",
        "outputId": "a1a9e453-0094-49ad-daab-b6641b23a5fa"
      },
      "execution_count": null,
      "outputs": [
        {
          "output_type": "execute_result",
          "data": {
            "text/plain": [
              "[('homer_simpson', 2246),\n",
              " ('lisa_simpson', 1354),\n",
              " ('bart_simpson', 1342),\n",
              " ('marge_simpson', 1291),\n",
              " ('krusty_the_clown', 1206),\n",
              " ('charles_montgomery_burns', 1193),\n",
              " ('chief_wiggum', 986),\n",
              " ('abraham_grampa_simpson', 913),\n",
              " ('apu_nahasapeemapetilon', 623),\n",
              " ('kent_brockman', 498),\n",
              " ('comic_book_guy', 469),\n",
              " ('edna_krabappel', 457),\n",
              " ('lenny_leonard', 310),\n",
              " ('maggie_simpson', 128),\n",
              " ('groundskeeper_willie', 121),\n",
              " ('barney_gumble', 106),\n",
              " ('carl_carlson', 98),\n",
              " ('martin_prince', 71),\n",
              " ('cletus_spuckler', 47),\n",
              " ('agnes_skinner', 42),\n",
              " ('gil', 27),\n",
              " ('fat_tony', 27),\n",
              " ('disco_stu', 8),\n",
              " ('lionel_hutz', 3)]"
            ]
          },
          "metadata": {},
          "execution_count": 4
        }
      ]
    },
    {
      "cell_type": "code",
      "source": [
        "characters = []\n",
        "count = 0\n",
        "for i in char_dict:\n",
        "    characters.append(i[0])\n",
        "    count+=1\n",
        "    if count>=10:\n",
        "        break\n",
        "characters"
      ],
      "metadata": {
        "colab": {
          "base_uri": "https://localhost:8080/"
        },
        "id": "2uUlrTAK1H52",
        "outputId": "56e5a62e-8717-49e1-9e61-e1a9401c2cb1"
      },
      "execution_count": null,
      "outputs": [
        {
          "output_type": "execute_result",
          "data": {
            "text/plain": [
              "['homer_simpson',\n",
              " 'lisa_simpson',\n",
              " 'bart_simpson',\n",
              " 'marge_simpson',\n",
              " 'krusty_the_clown',\n",
              " 'charles_montgomery_burns',\n",
              " 'chief_wiggum',\n",
              " 'abraham_grampa_simpson',\n",
              " 'apu_nahasapeemapetilon',\n",
              " 'kent_brockman']"
            ]
          },
          "metadata": {},
          "execution_count": 5
        }
      ]
    },
    {
      "cell_type": "code",
      "source": [
        "train = caer.preprocess_from_dir(char_path, characters, channels = channels, IMG_SIZE = IMG_SIZE, isShuffle = True, verbose = True)\n"
      ],
      "metadata": {
        "colab": {
          "base_uri": "https://localhost:8080/"
        },
        "id": "uYfOnk821Owe",
        "outputId": "a78ba4d4-4eb3-4597-d680-7a5d6aa74bfa"
      },
      "execution_count": null,
      "outputs": [
        {
          "output_type": "stream",
          "name": "stdout",
          "text": [
            "[INFO] Could not find a file to load from. Generating the training data\n",
            "----------------------------------------------\n",
            "[INFO] At 1000 files\n",
            "[INFO] At 2000 files\n",
            "[INFO] 2246 files found in 0.11093688011169434s\n",
            "[INFO] At 1000 files\n",
            "[INFO] 1354 files found in 0.024522781372070312s\n",
            "[INFO] At 1000 files\n",
            "[INFO] 1342 files found in 0.023793935775756836s\n",
            "[INFO] At 1000 files\n",
            "[INFO] 1291 files found in 0.033728837966918945s\n",
            "[INFO] At 1000 files\n",
            "[INFO] 1206 files found in 0.021969318389892578s\n",
            "[INFO] At 1000 files\n",
            "[INFO] 1193 files found in 0.020994186401367188s\n",
            "[INFO] 986 files found in 0.016427993774414062s\n",
            "[INFO] 913 files found in 0.015804529190063477s\n",
            "[INFO] 623 files found in 0.010954141616821289s\n",
            "[INFO] 498 files found in 0.010161876678466797s\n",
            "----------------------------------------------\n",
            "[INFO] 11652 files preprocessed! Took 3m 56s\n"
          ]
        }
      ]
    },
    {
      "cell_type": "code",
      "source": [
        "featureSet , labels = caer.sep_train(train, IMG_SIZE=IMG_SIZE)"
      ],
      "metadata": {
        "id": "bdQSKEat4qCQ"
      },
      "execution_count": null,
      "outputs": []
    },
    {
      "cell_type": "code",
      "source": [
        "#normalize the feautureSet ==> (0,1)\n",
        "\n",
        "from tensorflow.keras.utils import to_categorical\n",
        "\n",
        "featureSet = caer.normalize(featureSet)\n",
        "labels = to_categorical(labels, len(characters))"
      ],
      "metadata": {
        "id": "51_9BUYX4tFM"
      },
      "execution_count": null,
      "outputs": []
    },
    {
      "cell_type": "code",
      "source": [
        "x_train, x_val, y_train, y_val = caer.train_val_split(featureSet, labels, val_ratio=.2)"
      ],
      "metadata": {
        "id": "2hppRFvo4wMF"
      },
      "execution_count": null,
      "outputs": []
    },
    {
      "cell_type": "code",
      "source": [
        "del train\n",
        "del featureSet\n",
        "del labels\n",
        "gc.collect()"
      ],
      "metadata": {
        "colab": {
          "base_uri": "https://localhost:8080/"
        },
        "id": "fCDxVXQ34yqy",
        "outputId": "435093b0-a315-405c-8766-076db4499ab3"
      },
      "execution_count": null,
      "outputs": [
        {
          "output_type": "execute_result",
          "data": {
            "text/plain": [
              "131"
            ]
          },
          "metadata": {},
          "execution_count": 10
        }
      ]
    },
    {
      "cell_type": "code",
      "source": [
        "BATCH_SIZE  = 4\n",
        "EPOCHS = 15"
      ],
      "metadata": {
        "id": "mzawrImb41Wo"
      },
      "execution_count": null,
      "outputs": []
    },
    {
      "cell_type": "code",
      "source": [
        "datagen = canaro.generators.imageDataGenerator()\n",
        "train_gen = datagen.flow(x_train,y_train, batch_size = BATCH_SIZE)"
      ],
      "metadata": {
        "id": "rX8vpLxA44KE"
      },
      "execution_count": null,
      "outputs": []
    },
    {
      "cell_type": "code",
      "source": [
        "#creating a model\n",
        "\n",
        "# Create our model (returns a compiled model)\n",
        "model = canaro.models.createSimpsonsModel(IMG_SIZE=IMG_SIZE, channels=channels, output_dim=len(characters), \n",
        "                                         loss='binary_crossentropy', decay=1e-7, learning_rate=0.002, momentum=0.9,\n",
        "                                         nesterov=True)"
      ],
      "metadata": {
        "colab": {
          "base_uri": "https://localhost:8080/"
        },
        "id": "eyO_ElAy46aU",
        "outputId": "26ceb554-ec4b-4524-e047-e5e81e0fa7e8"
      },
      "execution_count": null,
      "outputs": [
        {
          "output_type": "stream",
          "name": "stderr",
          "text": [
            "/usr/local/lib/python3.7/dist-packages/keras/optimizer_v2/gradient_descent.py:102: UserWarning: The `lr` argument is deprecated, use `learning_rate` instead.\n",
            "  super(SGD, self).__init__(name, **kwargs)\n"
          ]
        }
      ]
    },
    {
      "cell_type": "code",
      "source": [
        "model.summary()"
      ],
      "metadata": {
        "colab": {
          "base_uri": "https://localhost:8080/"
        },
        "id": "b7vvknem48Zc",
        "outputId": "22d32855-ec3c-4fae-96b3-f60f253c4cbb"
      },
      "execution_count": null,
      "outputs": [
        {
          "output_type": "stream",
          "name": "stdout",
          "text": [
            "Model: \"sequential_1\"\n",
            "_________________________________________________________________\n",
            " Layer (type)                Output Shape              Param #   \n",
            "=================================================================\n",
            " conv2d_6 (Conv2D)           (None, 80, 80, 32)        320       \n",
            "                                                                 \n",
            " conv2d_7 (Conv2D)           (None, 78, 78, 32)        9248      \n",
            "                                                                 \n",
            " max_pooling2d_3 (MaxPooling  (None, 39, 39, 32)       0         \n",
            " 2D)                                                             \n",
            "                                                                 \n",
            " dropout_4 (Dropout)         (None, 39, 39, 32)        0         \n",
            "                                                                 \n",
            " conv2d_8 (Conv2D)           (None, 39, 39, 64)        18496     \n",
            "                                                                 \n",
            " conv2d_9 (Conv2D)           (None, 37, 37, 64)        36928     \n",
            "                                                                 \n",
            " max_pooling2d_4 (MaxPooling  (None, 18, 18, 64)       0         \n",
            " 2D)                                                             \n",
            "                                                                 \n",
            " dropout_5 (Dropout)         (None, 18, 18, 64)        0         \n",
            "                                                                 \n",
            " conv2d_10 (Conv2D)          (None, 18, 18, 256)       147712    \n",
            "                                                                 \n",
            " conv2d_11 (Conv2D)          (None, 16, 16, 256)       590080    \n",
            "                                                                 \n",
            " max_pooling2d_5 (MaxPooling  (None, 8, 8, 256)        0         \n",
            " 2D)                                                             \n",
            "                                                                 \n",
            " dropout_6 (Dropout)         (None, 8, 8, 256)         0         \n",
            "                                                                 \n",
            " flatten_1 (Flatten)         (None, 16384)             0         \n",
            "                                                                 \n",
            " dropout_7 (Dropout)         (None, 16384)             0         \n",
            "                                                                 \n",
            " dense_1 (Dense)             (None, 1024)              16778240  \n",
            "                                                                 \n",
            " dense_2 (Dense)             (None, 10)                10250     \n",
            "                                                                 \n",
            "=================================================================\n",
            "Total params: 17,591,274\n",
            "Trainable params: 17,591,274\n",
            "Non-trainable params: 0\n",
            "_________________________________________________________________\n"
          ]
        }
      ]
    },
    {
      "cell_type": "code",
      "source": [
        "from tensorflow.keras.callbacks import LearningRateScheduler\n",
        "callbacks_list = [LearningRateScheduler(canaro.lr_schedule)]"
      ],
      "metadata": {
        "id": "kmq-H5Q35Avo"
      },
      "execution_count": null,
      "outputs": []
    },
    {
      "cell_type": "code",
      "source": [
        "#train\n",
        "\n",
        "from tensorflow.keras.callbacks import LearningRateScheduler\n",
        "callbacks_list = [LearningRateScheduler(canaro.lr_schedule)]\n",
        "training = model.fit(train_gen,\n",
        "                    steps_per_epoch=int(len(x_train)/BATCH_SIZE),\n",
        "                    epochs=EPOCHS,\n",
        "                    validation_data=(x_val,y_val),\n",
        "                    validation_steps=int(len(y_val)/BATCH_SIZE),\n",
        "                    callbacks = callbacks_list)"
      ],
      "metadata": {
        "colab": {
          "base_uri": "https://localhost:8080/"
        },
        "id": "xQ4Ic5qG5Dx4",
        "outputId": "ad090900-e640-4327-b185-7ab78cdede7c"
      },
      "execution_count": null,
      "outputs": [
        {
          "output_type": "stream",
          "name": "stdout",
          "text": [
            "Epoch 1/15\n",
            "2330/2330 [==============================] - 69s 26ms/step - loss: 0.3195 - accuracy: 0.1837 - val_loss: 0.2986 - val_accuracy: 0.2762 - lr: 0.0100\n",
            "Epoch 2/15\n",
            "2330/2330 [==============================] - 58s 25ms/step - loss: 0.2941 - accuracy: 0.2602 - val_loss: 0.2767 - val_accuracy: 0.3255 - lr: 0.0100\n",
            "Epoch 3/15\n",
            "2330/2330 [==============================] - 59s 25ms/step - loss: 0.2802 - accuracy: 0.3202 - val_loss: 0.2503 - val_accuracy: 0.4511 - lr: 0.0100\n",
            "Epoch 4/15\n",
            "2330/2330 [==============================] - 59s 25ms/step - loss: 0.2635 - accuracy: 0.3785 - val_loss: 0.2461 - val_accuracy: 0.4524 - lr: 0.0100\n",
            "Epoch 5/15\n",
            "2330/2330 [==============================] - 57s 24ms/step - loss: 0.2511 - accuracy: 0.4165 - val_loss: 0.2292 - val_accuracy: 0.4833 - lr: 0.0100\n",
            "Epoch 6/15\n",
            "2330/2330 [==============================] - 59s 25ms/step - loss: 0.2360 - accuracy: 0.4649 - val_loss: 0.2045 - val_accuracy: 0.5682 - lr: 0.0100\n",
            "Epoch 7/15\n",
            "2330/2330 [==============================] - 59s 25ms/step - loss: 0.2198 - accuracy: 0.5126 - val_loss: 0.1851 - val_accuracy: 0.6166 - lr: 0.0100\n",
            "Epoch 8/15\n",
            "2330/2330 [==============================] - 60s 26ms/step - loss: 0.2034 - accuracy: 0.5536 - val_loss: 0.1730 - val_accuracy: 0.6449 - lr: 0.0100\n",
            "Epoch 9/15\n",
            "2330/2330 [==============================] - 59s 25ms/step - loss: 0.1922 - accuracy: 0.5833 - val_loss: 0.1608 - val_accuracy: 0.6715 - lr: 0.0100\n",
            "Epoch 10/15\n",
            "2330/2330 [==============================] - 59s 25ms/step - loss: 0.1799 - accuracy: 0.6138 - val_loss: 0.1608 - val_accuracy: 0.6604 - lr: 0.0100\n",
            "Epoch 11/15\n",
            "2330/2330 [==============================] - 58s 25ms/step - loss: 0.1563 - accuracy: 0.6742 - val_loss: 0.1374 - val_accuracy: 0.7247 - lr: 0.0010\n",
            "Epoch 12/15\n",
            "2330/2330 [==============================] - 57s 24ms/step - loss: 0.1490 - accuracy: 0.6906 - val_loss: 0.1336 - val_accuracy: 0.7324 - lr: 0.0010\n",
            "Epoch 13/15\n",
            "2330/2330 [==============================] - 59s 25ms/step - loss: 0.1471 - accuracy: 0.6929 - val_loss: 0.1309 - val_accuracy: 0.7419 - lr: 0.0010\n",
            "Epoch 14/15\n",
            "2330/2330 [==============================] - 56s 24ms/step - loss: 0.1455 - accuracy: 0.6980 - val_loss: 0.1312 - val_accuracy: 0.7384 - lr: 0.0010\n",
            "Epoch 15/15\n",
            "2330/2330 [==============================] - 59s 25ms/step - loss: 0.1411 - accuracy: 0.7093 - val_loss: 0.1265 - val_accuracy: 0.7509 - lr: 0.0010\n"
          ]
        }
      ]
    },
    {
      "cell_type": "code",
      "source": [
        ""
      ],
      "metadata": {
        "id": "RlWguqYGLQJQ"
      },
      "execution_count": null,
      "outputs": []
    }
  ]
}